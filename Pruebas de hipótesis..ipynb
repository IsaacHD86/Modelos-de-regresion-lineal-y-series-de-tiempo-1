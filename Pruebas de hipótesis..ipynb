{
 "cells": [
  {
   "cell_type": "markdown",
   "id": "3bf53140",
   "metadata": {},
   "source": [
    "## Considera la base de datos del archivo de Kaggle “kc_house_data.csv” donde el objetivo es el de pronosticar el precio de una casa a partir de diversas variables que la definen (como número de habitaciones, baños, etc.)."
   ]
  },
  {
   "cell_type": "code",
   "execution_count": 3,
   "id": "d1a0ef2c",
   "metadata": {},
   "outputs": [
    {
     "data": {
      "text/html": [
       "<div>\n",
       "<style scoped>\n",
       "    .dataframe tbody tr th:only-of-type {\n",
       "        vertical-align: middle;\n",
       "    }\n",
       "\n",
       "    .dataframe tbody tr th {\n",
       "        vertical-align: top;\n",
       "    }\n",
       "\n",
       "    .dataframe thead th {\n",
       "        text-align: right;\n",
       "    }\n",
       "</style>\n",
       "<table border=\"1\" class=\"dataframe\">\n",
       "  <thead>\n",
       "    <tr style=\"text-align: right;\">\n",
       "      <th></th>\n",
       "      <th>id</th>\n",
       "      <th>date</th>\n",
       "      <th>price</th>\n",
       "      <th>bedrooms</th>\n",
       "      <th>bathrooms</th>\n",
       "      <th>sqft_living</th>\n",
       "      <th>sqft_lot</th>\n",
       "      <th>floors</th>\n",
       "      <th>waterfront</th>\n",
       "      <th>view</th>\n",
       "      <th>...</th>\n",
       "      <th>grade</th>\n",
       "      <th>sqft_above</th>\n",
       "      <th>sqft_basement</th>\n",
       "      <th>yr_built</th>\n",
       "      <th>yr_renovated</th>\n",
       "      <th>zipcode</th>\n",
       "      <th>lat</th>\n",
       "      <th>long</th>\n",
       "      <th>sqft_living15</th>\n",
       "      <th>sqft_lot15</th>\n",
       "    </tr>\n",
       "  </thead>\n",
       "  <tbody>\n",
       "    <tr>\n",
       "      <th>0</th>\n",
       "      <td>7129300520</td>\n",
       "      <td>20141013T000000</td>\n",
       "      <td>221900.0</td>\n",
       "      <td>3</td>\n",
       "      <td>1.00</td>\n",
       "      <td>1180</td>\n",
       "      <td>5650</td>\n",
       "      <td>1.0</td>\n",
       "      <td>0</td>\n",
       "      <td>0</td>\n",
       "      <td>...</td>\n",
       "      <td>7</td>\n",
       "      <td>1180</td>\n",
       "      <td>0</td>\n",
       "      <td>1955</td>\n",
       "      <td>0</td>\n",
       "      <td>98178</td>\n",
       "      <td>47.5112</td>\n",
       "      <td>-122.257</td>\n",
       "      <td>1340</td>\n",
       "      <td>5650</td>\n",
       "    </tr>\n",
       "    <tr>\n",
       "      <th>1</th>\n",
       "      <td>6414100192</td>\n",
       "      <td>20141209T000000</td>\n",
       "      <td>538000.0</td>\n",
       "      <td>3</td>\n",
       "      <td>2.25</td>\n",
       "      <td>2570</td>\n",
       "      <td>7242</td>\n",
       "      <td>2.0</td>\n",
       "      <td>0</td>\n",
       "      <td>0</td>\n",
       "      <td>...</td>\n",
       "      <td>7</td>\n",
       "      <td>2170</td>\n",
       "      <td>400</td>\n",
       "      <td>1951</td>\n",
       "      <td>1991</td>\n",
       "      <td>98125</td>\n",
       "      <td>47.7210</td>\n",
       "      <td>-122.319</td>\n",
       "      <td>1690</td>\n",
       "      <td>7639</td>\n",
       "    </tr>\n",
       "    <tr>\n",
       "      <th>2</th>\n",
       "      <td>5631500400</td>\n",
       "      <td>20150225T000000</td>\n",
       "      <td>180000.0</td>\n",
       "      <td>2</td>\n",
       "      <td>1.00</td>\n",
       "      <td>770</td>\n",
       "      <td>10000</td>\n",
       "      <td>1.0</td>\n",
       "      <td>0</td>\n",
       "      <td>0</td>\n",
       "      <td>...</td>\n",
       "      <td>6</td>\n",
       "      <td>770</td>\n",
       "      <td>0</td>\n",
       "      <td>1933</td>\n",
       "      <td>0</td>\n",
       "      <td>98028</td>\n",
       "      <td>47.7379</td>\n",
       "      <td>-122.233</td>\n",
       "      <td>2720</td>\n",
       "      <td>8062</td>\n",
       "    </tr>\n",
       "    <tr>\n",
       "      <th>3</th>\n",
       "      <td>2487200875</td>\n",
       "      <td>20141209T000000</td>\n",
       "      <td>604000.0</td>\n",
       "      <td>4</td>\n",
       "      <td>3.00</td>\n",
       "      <td>1960</td>\n",
       "      <td>5000</td>\n",
       "      <td>1.0</td>\n",
       "      <td>0</td>\n",
       "      <td>0</td>\n",
       "      <td>...</td>\n",
       "      <td>7</td>\n",
       "      <td>1050</td>\n",
       "      <td>910</td>\n",
       "      <td>1965</td>\n",
       "      <td>0</td>\n",
       "      <td>98136</td>\n",
       "      <td>47.5208</td>\n",
       "      <td>-122.393</td>\n",
       "      <td>1360</td>\n",
       "      <td>5000</td>\n",
       "    </tr>\n",
       "    <tr>\n",
       "      <th>4</th>\n",
       "      <td>1954400510</td>\n",
       "      <td>20150218T000000</td>\n",
       "      <td>510000.0</td>\n",
       "      <td>3</td>\n",
       "      <td>2.00</td>\n",
       "      <td>1680</td>\n",
       "      <td>8080</td>\n",
       "      <td>1.0</td>\n",
       "      <td>0</td>\n",
       "      <td>0</td>\n",
       "      <td>...</td>\n",
       "      <td>8</td>\n",
       "      <td>1680</td>\n",
       "      <td>0</td>\n",
       "      <td>1987</td>\n",
       "      <td>0</td>\n",
       "      <td>98074</td>\n",
       "      <td>47.6168</td>\n",
       "      <td>-122.045</td>\n",
       "      <td>1800</td>\n",
       "      <td>7503</td>\n",
       "    </tr>\n",
       "    <tr>\n",
       "      <th>...</th>\n",
       "      <td>...</td>\n",
       "      <td>...</td>\n",
       "      <td>...</td>\n",
       "      <td>...</td>\n",
       "      <td>...</td>\n",
       "      <td>...</td>\n",
       "      <td>...</td>\n",
       "      <td>...</td>\n",
       "      <td>...</td>\n",
       "      <td>...</td>\n",
       "      <td>...</td>\n",
       "      <td>...</td>\n",
       "      <td>...</td>\n",
       "      <td>...</td>\n",
       "      <td>...</td>\n",
       "      <td>...</td>\n",
       "      <td>...</td>\n",
       "      <td>...</td>\n",
       "      <td>...</td>\n",
       "      <td>...</td>\n",
       "      <td>...</td>\n",
       "    </tr>\n",
       "    <tr>\n",
       "      <th>21608</th>\n",
       "      <td>263000018</td>\n",
       "      <td>20140521T000000</td>\n",
       "      <td>360000.0</td>\n",
       "      <td>3</td>\n",
       "      <td>2.50</td>\n",
       "      <td>1530</td>\n",
       "      <td>1131</td>\n",
       "      <td>3.0</td>\n",
       "      <td>0</td>\n",
       "      <td>0</td>\n",
       "      <td>...</td>\n",
       "      <td>8</td>\n",
       "      <td>1530</td>\n",
       "      <td>0</td>\n",
       "      <td>2009</td>\n",
       "      <td>0</td>\n",
       "      <td>98103</td>\n",
       "      <td>47.6993</td>\n",
       "      <td>-122.346</td>\n",
       "      <td>1530</td>\n",
       "      <td>1509</td>\n",
       "    </tr>\n",
       "    <tr>\n",
       "      <th>21609</th>\n",
       "      <td>6600060120</td>\n",
       "      <td>20150223T000000</td>\n",
       "      <td>400000.0</td>\n",
       "      <td>4</td>\n",
       "      <td>2.50</td>\n",
       "      <td>2310</td>\n",
       "      <td>5813</td>\n",
       "      <td>2.0</td>\n",
       "      <td>0</td>\n",
       "      <td>0</td>\n",
       "      <td>...</td>\n",
       "      <td>8</td>\n",
       "      <td>2310</td>\n",
       "      <td>0</td>\n",
       "      <td>2014</td>\n",
       "      <td>0</td>\n",
       "      <td>98146</td>\n",
       "      <td>47.5107</td>\n",
       "      <td>-122.362</td>\n",
       "      <td>1830</td>\n",
       "      <td>7200</td>\n",
       "    </tr>\n",
       "    <tr>\n",
       "      <th>21610</th>\n",
       "      <td>1523300141</td>\n",
       "      <td>20140623T000000</td>\n",
       "      <td>402101.0</td>\n",
       "      <td>2</td>\n",
       "      <td>0.75</td>\n",
       "      <td>1020</td>\n",
       "      <td>1350</td>\n",
       "      <td>2.0</td>\n",
       "      <td>0</td>\n",
       "      <td>0</td>\n",
       "      <td>...</td>\n",
       "      <td>7</td>\n",
       "      <td>1020</td>\n",
       "      <td>0</td>\n",
       "      <td>2009</td>\n",
       "      <td>0</td>\n",
       "      <td>98144</td>\n",
       "      <td>47.5944</td>\n",
       "      <td>-122.299</td>\n",
       "      <td>1020</td>\n",
       "      <td>2007</td>\n",
       "    </tr>\n",
       "    <tr>\n",
       "      <th>21611</th>\n",
       "      <td>291310100</td>\n",
       "      <td>20150116T000000</td>\n",
       "      <td>400000.0</td>\n",
       "      <td>3</td>\n",
       "      <td>2.50</td>\n",
       "      <td>1600</td>\n",
       "      <td>2388</td>\n",
       "      <td>2.0</td>\n",
       "      <td>0</td>\n",
       "      <td>0</td>\n",
       "      <td>...</td>\n",
       "      <td>8</td>\n",
       "      <td>1600</td>\n",
       "      <td>0</td>\n",
       "      <td>2004</td>\n",
       "      <td>0</td>\n",
       "      <td>98027</td>\n",
       "      <td>47.5345</td>\n",
       "      <td>-122.069</td>\n",
       "      <td>1410</td>\n",
       "      <td>1287</td>\n",
       "    </tr>\n",
       "    <tr>\n",
       "      <th>21612</th>\n",
       "      <td>1523300157</td>\n",
       "      <td>20141015T000000</td>\n",
       "      <td>325000.0</td>\n",
       "      <td>2</td>\n",
       "      <td>0.75</td>\n",
       "      <td>1020</td>\n",
       "      <td>1076</td>\n",
       "      <td>2.0</td>\n",
       "      <td>0</td>\n",
       "      <td>0</td>\n",
       "      <td>...</td>\n",
       "      <td>7</td>\n",
       "      <td>1020</td>\n",
       "      <td>0</td>\n",
       "      <td>2008</td>\n",
       "      <td>0</td>\n",
       "      <td>98144</td>\n",
       "      <td>47.5941</td>\n",
       "      <td>-122.299</td>\n",
       "      <td>1020</td>\n",
       "      <td>1357</td>\n",
       "    </tr>\n",
       "  </tbody>\n",
       "</table>\n",
       "<p>21613 rows × 21 columns</p>\n",
       "</div>"
      ],
      "text/plain": [
       "               id             date     price  bedrooms  bathrooms  \\\n",
       "0      7129300520  20141013T000000  221900.0         3       1.00   \n",
       "1      6414100192  20141209T000000  538000.0         3       2.25   \n",
       "2      5631500400  20150225T000000  180000.0         2       1.00   \n",
       "3      2487200875  20141209T000000  604000.0         4       3.00   \n",
       "4      1954400510  20150218T000000  510000.0         3       2.00   \n",
       "...           ...              ...       ...       ...        ...   \n",
       "21608   263000018  20140521T000000  360000.0         3       2.50   \n",
       "21609  6600060120  20150223T000000  400000.0         4       2.50   \n",
       "21610  1523300141  20140623T000000  402101.0         2       0.75   \n",
       "21611   291310100  20150116T000000  400000.0         3       2.50   \n",
       "21612  1523300157  20141015T000000  325000.0         2       0.75   \n",
       "\n",
       "       sqft_living  sqft_lot  floors  waterfront  view  ...  grade  \\\n",
       "0             1180      5650     1.0           0     0  ...      7   \n",
       "1             2570      7242     2.0           0     0  ...      7   \n",
       "2              770     10000     1.0           0     0  ...      6   \n",
       "3             1960      5000     1.0           0     0  ...      7   \n",
       "4             1680      8080     1.0           0     0  ...      8   \n",
       "...            ...       ...     ...         ...   ...  ...    ...   \n",
       "21608         1530      1131     3.0           0     0  ...      8   \n",
       "21609         2310      5813     2.0           0     0  ...      8   \n",
       "21610         1020      1350     2.0           0     0  ...      7   \n",
       "21611         1600      2388     2.0           0     0  ...      8   \n",
       "21612         1020      1076     2.0           0     0  ...      7   \n",
       "\n",
       "       sqft_above  sqft_basement  yr_built  yr_renovated  zipcode      lat  \\\n",
       "0            1180              0      1955             0    98178  47.5112   \n",
       "1            2170            400      1951          1991    98125  47.7210   \n",
       "2             770              0      1933             0    98028  47.7379   \n",
       "3            1050            910      1965             0    98136  47.5208   \n",
       "4            1680              0      1987             0    98074  47.6168   \n",
       "...           ...            ...       ...           ...      ...      ...   \n",
       "21608        1530              0      2009             0    98103  47.6993   \n",
       "21609        2310              0      2014             0    98146  47.5107   \n",
       "21610        1020              0      2009             0    98144  47.5944   \n",
       "21611        1600              0      2004             0    98027  47.5345   \n",
       "21612        1020              0      2008             0    98144  47.5941   \n",
       "\n",
       "          long  sqft_living15  sqft_lot15  \n",
       "0     -122.257           1340        5650  \n",
       "1     -122.319           1690        7639  \n",
       "2     -122.233           2720        8062  \n",
       "3     -122.393           1360        5000  \n",
       "4     -122.045           1800        7503  \n",
       "...        ...            ...         ...  \n",
       "21608 -122.346           1530        1509  \n",
       "21609 -122.362           1830        7200  \n",
       "21610 -122.299           1020        2007  \n",
       "21611 -122.069           1410        1287  \n",
       "21612 -122.299           1020        1357  \n",
       "\n",
       "[21613 rows x 21 columns]"
      ]
     },
     "execution_count": 3,
     "metadata": {},
     "output_type": "execute_result"
    }
   ],
   "source": [
    "import pandas as pd\n",
    "import numpy as np\n",
    "import warnings\n",
    "warnings.filterwarnings('ignore')\n",
    "df = pd.read_csv('C:/Users/Isaac/Desktop/IHD/EBAC DT/CIENCIA DE DATOS/M52 DS/kc_house_data.csv')\n",
    "df"
   ]
  },
  {
   "cell_type": "markdown",
   "id": "70910890",
   "metadata": {},
   "source": [
    "* Construye un modelo de regresión lineal múltiple adecuado para pronosticar el precio de una casa, utiliza un enfoque matricial de pruebas de hipótesis. "
   ]
  },
  {
   "cell_type": "code",
   "execution_count": 4,
   "id": "071fbca8",
   "metadata": {},
   "outputs": [],
   "source": [
    "df[['Intercepto']] = 1"
   ]
  },
  {
   "cell_type": "code",
   "execution_count": 5,
   "id": "b04ee56b",
   "metadata": {},
   "outputs": [
    {
     "data": {
      "text/html": [
       "<div>\n",
       "<style scoped>\n",
       "    .dataframe tbody tr th:only-of-type {\n",
       "        vertical-align: middle;\n",
       "    }\n",
       "\n",
       "    .dataframe tbody tr th {\n",
       "        vertical-align: top;\n",
       "    }\n",
       "\n",
       "    .dataframe thead th {\n",
       "        text-align: right;\n",
       "    }\n",
       "</style>\n",
       "<table border=\"1\" class=\"dataframe\">\n",
       "  <thead>\n",
       "    <tr style=\"text-align: right;\">\n",
       "      <th></th>\n",
       "      <th>price</th>\n",
       "      <th>bedrooms</th>\n",
       "      <th>bathrooms</th>\n",
       "      <th>floors</th>\n",
       "      <th>waterfront</th>\n",
       "      <th>view</th>\n",
       "      <th>condition</th>\n",
       "      <th>sqft_above</th>\n",
       "      <th>sqft_basement</th>\n",
       "      <th>yr_built</th>\n",
       "      <th>yr_renovated</th>\n",
       "    </tr>\n",
       "  </thead>\n",
       "  <tbody>\n",
       "    <tr>\n",
       "      <th>0</th>\n",
       "      <td>221900.0</td>\n",
       "      <td>3</td>\n",
       "      <td>1.00</td>\n",
       "      <td>1.0</td>\n",
       "      <td>0</td>\n",
       "      <td>0</td>\n",
       "      <td>3</td>\n",
       "      <td>1180</td>\n",
       "      <td>0</td>\n",
       "      <td>1955</td>\n",
       "      <td>0</td>\n",
       "    </tr>\n",
       "    <tr>\n",
       "      <th>1</th>\n",
       "      <td>538000.0</td>\n",
       "      <td>3</td>\n",
       "      <td>2.25</td>\n",
       "      <td>2.0</td>\n",
       "      <td>0</td>\n",
       "      <td>0</td>\n",
       "      <td>3</td>\n",
       "      <td>2170</td>\n",
       "      <td>400</td>\n",
       "      <td>1951</td>\n",
       "      <td>1991</td>\n",
       "    </tr>\n",
       "    <tr>\n",
       "      <th>2</th>\n",
       "      <td>180000.0</td>\n",
       "      <td>2</td>\n",
       "      <td>1.00</td>\n",
       "      <td>1.0</td>\n",
       "      <td>0</td>\n",
       "      <td>0</td>\n",
       "      <td>3</td>\n",
       "      <td>770</td>\n",
       "      <td>0</td>\n",
       "      <td>1933</td>\n",
       "      <td>0</td>\n",
       "    </tr>\n",
       "    <tr>\n",
       "      <th>3</th>\n",
       "      <td>604000.0</td>\n",
       "      <td>4</td>\n",
       "      <td>3.00</td>\n",
       "      <td>1.0</td>\n",
       "      <td>0</td>\n",
       "      <td>0</td>\n",
       "      <td>5</td>\n",
       "      <td>1050</td>\n",
       "      <td>910</td>\n",
       "      <td>1965</td>\n",
       "      <td>0</td>\n",
       "    </tr>\n",
       "    <tr>\n",
       "      <th>4</th>\n",
       "      <td>510000.0</td>\n",
       "      <td>3</td>\n",
       "      <td>2.00</td>\n",
       "      <td>1.0</td>\n",
       "      <td>0</td>\n",
       "      <td>0</td>\n",
       "      <td>3</td>\n",
       "      <td>1680</td>\n",
       "      <td>0</td>\n",
       "      <td>1987</td>\n",
       "      <td>0</td>\n",
       "    </tr>\n",
       "    <tr>\n",
       "      <th>...</th>\n",
       "      <td>...</td>\n",
       "      <td>...</td>\n",
       "      <td>...</td>\n",
       "      <td>...</td>\n",
       "      <td>...</td>\n",
       "      <td>...</td>\n",
       "      <td>...</td>\n",
       "      <td>...</td>\n",
       "      <td>...</td>\n",
       "      <td>...</td>\n",
       "      <td>...</td>\n",
       "    </tr>\n",
       "    <tr>\n",
       "      <th>21608</th>\n",
       "      <td>360000.0</td>\n",
       "      <td>3</td>\n",
       "      <td>2.50</td>\n",
       "      <td>3.0</td>\n",
       "      <td>0</td>\n",
       "      <td>0</td>\n",
       "      <td>3</td>\n",
       "      <td>1530</td>\n",
       "      <td>0</td>\n",
       "      <td>2009</td>\n",
       "      <td>0</td>\n",
       "    </tr>\n",
       "    <tr>\n",
       "      <th>21609</th>\n",
       "      <td>400000.0</td>\n",
       "      <td>4</td>\n",
       "      <td>2.50</td>\n",
       "      <td>2.0</td>\n",
       "      <td>0</td>\n",
       "      <td>0</td>\n",
       "      <td>3</td>\n",
       "      <td>2310</td>\n",
       "      <td>0</td>\n",
       "      <td>2014</td>\n",
       "      <td>0</td>\n",
       "    </tr>\n",
       "    <tr>\n",
       "      <th>21610</th>\n",
       "      <td>402101.0</td>\n",
       "      <td>2</td>\n",
       "      <td>0.75</td>\n",
       "      <td>2.0</td>\n",
       "      <td>0</td>\n",
       "      <td>0</td>\n",
       "      <td>3</td>\n",
       "      <td>1020</td>\n",
       "      <td>0</td>\n",
       "      <td>2009</td>\n",
       "      <td>0</td>\n",
       "    </tr>\n",
       "    <tr>\n",
       "      <th>21611</th>\n",
       "      <td>400000.0</td>\n",
       "      <td>3</td>\n",
       "      <td>2.50</td>\n",
       "      <td>2.0</td>\n",
       "      <td>0</td>\n",
       "      <td>0</td>\n",
       "      <td>3</td>\n",
       "      <td>1600</td>\n",
       "      <td>0</td>\n",
       "      <td>2004</td>\n",
       "      <td>0</td>\n",
       "    </tr>\n",
       "    <tr>\n",
       "      <th>21612</th>\n",
       "      <td>325000.0</td>\n",
       "      <td>2</td>\n",
       "      <td>0.75</td>\n",
       "      <td>2.0</td>\n",
       "      <td>0</td>\n",
       "      <td>0</td>\n",
       "      <td>3</td>\n",
       "      <td>1020</td>\n",
       "      <td>0</td>\n",
       "      <td>2008</td>\n",
       "      <td>0</td>\n",
       "    </tr>\n",
       "  </tbody>\n",
       "</table>\n",
       "<p>21613 rows × 11 columns</p>\n",
       "</div>"
      ],
      "text/plain": [
       "          price  bedrooms  bathrooms  floors  waterfront  view  condition  \\\n",
       "0      221900.0         3       1.00     1.0           0     0          3   \n",
       "1      538000.0         3       2.25     2.0           0     0          3   \n",
       "2      180000.0         2       1.00     1.0           0     0          3   \n",
       "3      604000.0         4       3.00     1.0           0     0          5   \n",
       "4      510000.0         3       2.00     1.0           0     0          3   \n",
       "...         ...       ...        ...     ...         ...   ...        ...   \n",
       "21608  360000.0         3       2.50     3.0           0     0          3   \n",
       "21609  400000.0         4       2.50     2.0           0     0          3   \n",
       "21610  402101.0         2       0.75     2.0           0     0          3   \n",
       "21611  400000.0         3       2.50     2.0           0     0          3   \n",
       "21612  325000.0         2       0.75     2.0           0     0          3   \n",
       "\n",
       "       sqft_above  sqft_basement  yr_built  yr_renovated  \n",
       "0            1180              0      1955             0  \n",
       "1            2170            400      1951          1991  \n",
       "2             770              0      1933             0  \n",
       "3            1050            910      1965             0  \n",
       "4            1680              0      1987             0  \n",
       "...           ...            ...       ...           ...  \n",
       "21608        1530              0      2009             0  \n",
       "21609        2310              0      2014             0  \n",
       "21610        1020              0      2009             0  \n",
       "21611        1600              0      2004             0  \n",
       "21612        1020              0      2008             0  \n",
       "\n",
       "[21613 rows x 11 columns]"
      ]
     },
     "execution_count": 5,
     "metadata": {},
     "output_type": "execute_result"
    }
   ],
   "source": [
    "df = df[['price', 'bedrooms', 'bathrooms', 'floors', 'waterfront', 'view', 'condition', 'sqft_above', 'sqft_basement', 'yr_built', 'yr_renovated']]\n",
    "df"
   ]
  },
  {
   "cell_type": "code",
   "execution_count": 7,
   "id": "55907a69",
   "metadata": {},
   "outputs": [],
   "source": [
    "X = df[['bedrooms', 'bathrooms', 'floors', 'waterfront', 'view', 'condition', 'sqft_above', 'sqft_basement', 'yr_built', 'yr_renovated']].values\n",
    "Y = df[['price']].values"
   ]
  },
  {
   "cell_type": "code",
   "execution_count": 8,
   "id": "0e857b82",
   "metadata": {},
   "outputs": [
    {
     "data": {
      "text/plain": [
       "array([[3.000e+00, 1.000e+00, 1.000e+00, ..., 0.000e+00, 1.955e+03,\n",
       "        0.000e+00],\n",
       "       [3.000e+00, 2.250e+00, 2.000e+00, ..., 4.000e+02, 1.951e+03,\n",
       "        1.991e+03],\n",
       "       [2.000e+00, 1.000e+00, 1.000e+00, ..., 0.000e+00, 1.933e+03,\n",
       "        0.000e+00],\n",
       "       ...,\n",
       "       [2.000e+00, 7.500e-01, 2.000e+00, ..., 0.000e+00, 2.009e+03,\n",
       "        0.000e+00],\n",
       "       [3.000e+00, 2.500e+00, 2.000e+00, ..., 0.000e+00, 2.004e+03,\n",
       "        0.000e+00],\n",
       "       [2.000e+00, 7.500e-01, 2.000e+00, ..., 0.000e+00, 2.008e+03,\n",
       "        0.000e+00]])"
      ]
     },
     "execution_count": 8,
     "metadata": {},
     "output_type": "execute_result"
    }
   ],
   "source": [
    "X = np.array(X)\n",
    "X"
   ]
  },
  {
   "cell_type": "code",
   "execution_count": 9,
   "id": "29316196",
   "metadata": {},
   "outputs": [
    {
     "data": {
      "text/plain": [
       "array([[221900.],\n",
       "       [538000.],\n",
       "       [180000.],\n",
       "       ...,\n",
       "       [402101.],\n",
       "       [400000.],\n",
       "       [325000.]])"
      ]
     },
     "execution_count": 9,
     "metadata": {},
     "output_type": "execute_result"
    }
   ],
   "source": [
    "Y = np.array(Y)\n",
    "Y"
   ]
  },
  {
   "cell_type": "code",
   "execution_count": 10,
   "id": "73e2125a",
   "metadata": {},
   "outputs": [
    {
     "data": {
      "text/plain": [
       "array([[2.64274000e+05, 1.62054750e+05, 1.10770500e+05, 5.38000000e+02,\n",
       "        1.82950000e+04, 2.48763000e+05, 1.38241089e+08, 2.39339120e+07,\n",
       "        1.43686638e+08, 6.30116200e+06],\n",
       "       [1.62054750e+05, 1.09476812e+05, 7.27991250e+04, 4.36500000e+02,\n",
       "        1.31037500e+04, 1.54478500e+05, 9.11869682e+07, 1.54141938e+07,\n",
       "        9.03346532e+07, 4.19694425e+06],\n",
       "       [1.10770500e+05, 7.27991250e+04, 5.45627500e+04, 2.67500000e+02,\n",
       "        7.83050000e+03, 1.08109500e+05, 6.28215925e+07, 8.14566850e+06,\n",
       "        6.38243035e+07, 2.75561000e+06],\n",
       "       [5.38000000e+02, 4.36500000e+02, 2.67500000e+02, 1.63000000e+02,\n",
       "        6.14000000e+02, 5.76000000e+02, 4.03106000e+05, 1.14205000e+05,\n",
       "        3.19837000e+05, 8.35200000e+04],\n",
       "       [1.82950000e+04, 1.31037500e+04, 7.83050000e+03, 6.14000000e+02,\n",
       "        1.38780000e+04, 1.77610000e+04, 1.13556470e+07, 3.50615800e+06,\n",
       "        9.95517300e+06, 1.11872000e+06],\n",
       "       [2.48763000e+05, 1.54478500e+05, 1.08109500e+05, 5.76000000e+02,\n",
       "        1.77610000e+04, 2.60386000e+05, 1.29940353e+08, 2.25644020e+07,\n",
       "        1.45090124e+08, 5.87699400e+06],\n",
       "       [1.38241089e+08, 9.11869682e+07, 6.28215925e+07, 4.03106000e+05,\n",
       "        1.13556470e+07, 1.29940353e+08, 8.39458473e+10, 1.08561260e+10,\n",
       "        7.64070903e+10, 3.42974468e+09],\n",
       "       [2.39339120e+07, 1.54141938e+07, 8.14566850e+06, 1.14205000e+05,\n",
       "        3.50615800e+06, 2.25644020e+07, 1.08561260e+10, 6.06981933e+09,\n",
       "        1.23806894e+10, 8.05791772e+08],\n",
       "       [1.43686638e+08, 9.03346532e+07, 6.38243035e+07, 3.19837000e+05,\n",
       "        9.95517300e+06, 1.45090124e+08, 7.64070903e+10, 1.23806894e+10,\n",
       "        8.39821529e+10, 3.53813874e+09],\n",
       "       [6.30116200e+06, 4.19694425e+06, 2.75561000e+06, 8.35200000e+04,\n",
       "        1.11872000e+06, 5.87699400e+06, 3.42974468e+09, 8.05791772e+08,\n",
       "        3.53813874e+09, 3.64097975e+09]])"
      ]
     },
     "execution_count": 10,
     "metadata": {},
     "output_type": "execute_result"
    }
   ],
   "source": [
    "XT_X = np.matmul(np.matrix.transpose(X), X)\n",
    "XT_X"
   ]
  },
  {
   "cell_type": "code",
   "execution_count": 11,
   "id": "93eb85f0",
   "metadata": {},
   "outputs": [
    {
     "data": {
      "text/plain": [
       "array([[ 8.44054957e-05, -2.24639559e-05,  9.24885453e-06,\n",
       "         3.12857788e-05,  8.90399490e-06, -9.04575947e-06,\n",
       "        -3.72549378e-08, -4.66684954e-08, -7.20228854e-08,\n",
       "        -6.21861159e-10],\n",
       "       [-2.24639559e-05,  2.24165100e-04, -9.38790006e-05,\n",
       "         5.67398603e-06,  1.42978663e-06,  1.22958138e-05,\n",
       "        -9.95286899e-08, -1.37594871e-07, -4.17672754e-08,\n",
       "        -4.09013838e-09],\n",
       "       [ 9.24885453e-06, -9.38790006e-05,  2.87015113e-04,\n",
       "        -8.59439789e-06, -2.68060443e-06,  2.68241668e-05,\n",
       "        -3.31869685e-08,  1.16656812e-07, -1.65938852e-07,\n",
       "        -5.95367060e-10],\n",
       "       [ 3.12857788e-05,  5.67398603e-06, -8.59439789e-06,\n",
       "         7.41892132e-03, -3.35661158e-04, -1.06574618e-05,\n",
       "        -2.07406802e-08,  2.50671034e-08, -4.36308762e-09,\n",
       "        -8.57948723e-08],\n",
       "       [ 8.90399490e-06,  1.42978663e-06, -2.68060443e-06,\n",
       "        -3.35661158e-04,  1.05908778e-04, -4.42896384e-06,\n",
       "        -2.08905147e-08, -5.29531030e-08,  8.87245058e-09,\n",
       "        -9.94569040e-09],\n",
       "       [-9.04575947e-06,  1.22958138e-05,  2.68241668e-05,\n",
       "        -1.06574618e-05, -4.42896384e-06,  1.15454232e-04,\n",
       "         4.74008808e-09, -2.20527465e-08, -2.18478703e-07,\n",
       "         9.15101349e-09],\n",
       "       [-3.72549378e-08, -9.95286899e-08, -3.31869685e-08,\n",
       "        -2.07406802e-08, -2.08905147e-08,  4.74008808e-09,\n",
       "         1.68347025e-10,  8.85348238e-11,  2.40871316e-11,\n",
       "         1.98022903e-12],\n",
       "       [-4.66684954e-08, -1.37594871e-07,  1.16656812e-07,\n",
       "         2.50671034e-08, -5.29531030e-08, -2.20527465e-08,\n",
       "         8.85348238e-11,  4.09094255e-10,  4.31850053e-11,\n",
       "        -1.35288146e-11],\n",
       "       [-7.20228854e-08, -4.17672754e-08, -1.65938852e-07,\n",
       "        -4.36308762e-09,  8.87245058e-09, -2.18478703e-07,\n",
       "         2.40871316e-11,  4.31850053e-11,  6.55166873e-10,\n",
       "        -2.05054495e-11],\n",
       "       [-6.21861159e-10, -4.09013838e-09, -5.95367060e-10,\n",
       "        -8.57948723e-08, -9.94569040e-09,  9.15101349e-09,\n",
       "         1.98022903e-12, -1.35288146e-11, -2.05054495e-11,\n",
       "         2.92200901e-10]])"
      ]
     },
     "execution_count": 11,
     "metadata": {},
     "output_type": "execute_result"
    }
   ],
   "source": [
    "XT_X_inv = np.linalg.inv(XT_X)\n",
    "XT_X_inv"
   ]
  },
  {
   "cell_type": "code",
   "execution_count": 12,
   "id": "170d0719",
   "metadata": {},
   "outputs": [
    {
     "data": {
      "text/plain": [
       "array([[4.16230285e+10],\n",
       "       [2.78943857e+10],\n",
       "       [1.85431805e+10],\n",
       "       [2.70885792e+08],\n",
       "       [5.15064376e+09],\n",
       "       [3.99857591e+10],\n",
       "       [2.48545493e+13],\n",
       "       [4.53985828e+12],\n",
       "       [2.30199830e+13],\n",
       "       [1.38817393e+12]])"
      ]
     },
     "execution_count": 12,
     "metadata": {},
     "output_type": "execute_result"
    }
   ],
   "source": [
    "XT_Y = np.matmul(np.matrix.transpose(X), Y)\n",
    "XT_Y"
   ]
  },
  {
   "cell_type": "code",
   "execution_count": 13,
   "id": "c49946e8",
   "metadata": {},
   "outputs": [
    {
     "data": {
      "text/plain": [
       "array([[-4.59199898e+04],\n",
       "       [ 1.21116791e+04],\n",
       "       [ 2.89132544e+04],\n",
       "       [ 5.34540806e+05],\n",
       "       [ 6.90777897e+04],\n",
       "       [ 5.57273425e+04],\n",
       "       [ 2.77330352e+02],\n",
       "       [ 2.67892554e+02],\n",
       "       [-8.32432877e+01],\n",
       "       [ 6.18166320e+01]])"
      ]
     },
     "execution_count": 13,
     "metadata": {},
     "output_type": "execute_result"
    }
   ],
   "source": [
    "betas = np.matmul(XT_X_inv, XT_Y)\n",
    "betas"
   ]
  },
  {
   "cell_type": "code",
   "execution_count": 14,
   "id": "f23c63a3",
   "metadata": {},
   "outputs": [
    {
     "data": {
      "text/plain": [
       "array([[234956.17881302],\n",
       "       [784132.98914506],\n",
       "       [169002.07681303],\n",
       "       ...,\n",
       "       [257893.50943578],\n",
       "       [394436.77845758],\n",
       "       [257976.75272351]])"
      ]
     },
     "execution_count": 14,
     "metadata": {},
     "output_type": "execute_result"
    }
   ],
   "source": [
    "Y_pred = np.matmul(X, betas)\n",
    "Y_pred"
   ]
  },
  {
   "cell_type": "code",
   "execution_count": 15,
   "id": "7627d4df",
   "metadata": {},
   "outputs": [
    {
     "data": {
      "text/plain": [
       "array([[ -13056.17881302],\n",
       "       [-246132.98914506],\n",
       "       [  10997.92318697],\n",
       "       ...,\n",
       "       [ 144207.49056422],\n",
       "       [   5563.22154242],\n",
       "       [  67023.24727649]])"
      ]
     },
     "execution_count": 15,
     "metadata": {},
     "output_type": "execute_result"
    }
   ],
   "source": [
    "resid = Y - Y_pred\n",
    "resid"
   ]
  },
  {
   "cell_type": "code",
   "execution_count": 16,
   "id": "849f02a9",
   "metadata": {},
   "outputs": [
    {
     "data": {
      "text/plain": [
       "1247099670851355.5"
      ]
     },
     "execution_count": 16,
     "metadata": {},
     "output_type": "execute_result"
    }
   ],
   "source": [
    "# Calculo de la suma de residuales al cuadrado\n",
    "RSS = float(np.matmul(np.matrix.transpose(resid), resid))\n",
    "RSS"
   ]
  },
  {
   "cell_type": "code",
   "execution_count": 19,
   "id": "edc8a0ae",
   "metadata": {},
   "outputs": [
    {
     "data": {
      "text/plain": [
       "2912916761921300.0"
      ]
     },
     "execution_count": 19,
     "metadata": {},
     "output_type": "execute_result"
    }
   ],
   "source": [
    "# Calculo de la suma total de cuadrados\n",
    "TSS = float(np.matmul(np.matrix.transpose(Y), Y) -len(Y) * (Y.mean() **2))\n",
    "TSS"
   ]
  },
  {
   "cell_type": "code",
   "execution_count": 20,
   "id": "b3d44b8e",
   "metadata": {},
   "outputs": [
    {
     "data": {
      "text/plain": [
       "0.571872534377263"
      ]
     },
     "execution_count": 20,
     "metadata": {},
     "output_type": "execute_result"
    }
   ],
   "source": [
    "# Calculo del coeficiente de Determinacion \n",
    "R2= float(1 - RSS / TSS)\n",
    "R2"
   ]
  },
  {
   "cell_type": "code",
   "execution_count": 21,
   "id": "fee571fa",
   "metadata": {},
   "outputs": [
    {
     "data": {
      "text/plain": [
       "0.571694172705708"
      ]
     },
     "execution_count": 21,
     "metadata": {},
     "output_type": "execute_result"
    }
   ],
   "source": [
    "# Calculo de coeficiente de determinacion ajustado\n",
    "RSqAj = float(1 - (RSS / (X.shape[0] - X.shape[1])) / (TSS / (X.shape[0] -1)))\n",
    "RSqAj"
   ]
  },
  {
   "cell_type": "code",
   "execution_count": 23,
   "id": "03e017e9",
   "metadata": {},
   "outputs": [
    {
     "data": {
      "text/plain": [
       "57728078084.125145"
      ]
     },
     "execution_count": 23,
     "metadata": {},
     "output_type": "execute_result"
    }
   ],
   "source": [
    "# Calculo de la varianza de error de regresión\n",
    "vari_reg = RSS / (len(Y) - X.shape[1])\n",
    "vari_reg"
   ]
  },
  {
   "cell_type": "code",
   "execution_count": 25,
   "id": "dd6758b9",
   "metadata": {},
   "outputs": [
    {
     "data": {
      "text/plain": [
       "240266.68117765547"
      ]
     },
     "execution_count": 25,
     "metadata": {},
     "output_type": "execute_result"
    }
   ],
   "source": [
    "# Desviación estandar del error de regresión\n",
    "import math\n",
    "\n",
    "s = math.sqrt(vari_reg)\n",
    "s"
   ]
  },
  {
   "cell_type": "code",
   "execution_count": 26,
   "id": "3384cc13",
   "metadata": {},
   "outputs": [
    {
     "data": {
      "text/plain": [
       "[-20.802851614755024,\n",
       " 3.366873564868969,\n",
       " 7.103150963004842,\n",
       " 25.82955547781555,\n",
       " 27.936944548702137,\n",
       " 21.58588479181695,\n",
       " 88.96130196218544,\n",
       " 55.12586315430602,\n",
       " -13.535668509589533,\n",
       " 15.051196119017055]"
      ]
     },
     "execution_count": 26,
     "metadata": {},
     "output_type": "execute_result"
    }
   ],
   "source": [
    "# Calculo de las t´s estadisticas para cada coeficiente de regresión\n",
    "result_t = []\n",
    "for i in range(0, X.shape[1]):\n",
    "    t = float(betas[i] / (s * math.sqrt(XT_X_inv[i][i])))\n",
    "    result_t.append(t)\n",
    "result_t"
   ]
  },
  {
   "cell_type": "markdown",
   "id": "c67a67ea",
   "metadata": {},
   "source": [
    "# Criterio 1\n",
    " * En este enfoque, utilizamos las pruebas t para cada coeficiente y determinamos si cada variable independiente es significativa en el modelo.\n",
    " * Se considera que los coeficientes son significativos si el valor p es menor a un nivel de significancia (por ejemplo, 0.05)."
   ]
  },
  {
   "cell_type": "code",
   "execution_count": 27,
   "id": "7277b45a",
   "metadata": {},
   "outputs": [
    {
     "data": {
      "text/plain": [
       "1.9600738027083116"
      ]
     },
     "execution_count": 27,
     "metadata": {},
     "output_type": "execute_result"
    }
   ],
   "source": [
    "import scipy.stats\n",
    "\n",
    "grados_libertad = len(Y) - X.shape[1]\n",
    "\n",
    "# la t_critica se obtendra a un nivel de confianza de 95% (Alfa = 5%)\n",
    "t_critico = abs(scipy.stats.t.ppf(q = 0.025, df = grados_libertad))\n",
    "t_critico"
   ]
  },
  {
   "cell_type": "code",
   "execution_count": 28,
   "id": "9906b715",
   "metadata": {},
   "outputs": [
    {
     "name": "stdout",
     "output_type": "stream",
     "text": [
      "Beta 0 es significativa\n",
      "Beta 1 es significativa\n",
      "Beta 2 es significativa\n",
      "Beta 3 es significativa\n",
      "Beta 4 es significativa\n",
      "Beta 5 es significativa\n",
      "Beta 6 es significativa\n",
      "Beta 7 es significativa\n",
      "Beta 8 es significativa\n",
      "Beta 9 es significativa\n"
     ]
    }
   ],
   "source": [
    "for i in range(0, X.shape[1]):\n",
    "    if(abs(result_t[i]) > t_critico):\n",
    "        print('Beta', i, 'es significativa') # Aqui se rechaza H0\n",
    "    else:\n",
    "         print('Beta', i, 'No es significativa') # Aqui No se rechaza H0"
   ]
  },
  {
   "cell_type": "markdown",
   "id": "4c2510f7",
   "metadata": {},
   "source": [
    "# Criterio 2\n",
    "* Si el valor p es pequeño, indica que el modelo en su conjunto es significativo."
   ]
  },
  {
   "cell_type": "code",
   "execution_count": 45,
   "id": "53df475f",
   "metadata": {},
   "outputs": [
    {
     "name": "stdout",
     "output_type": "stream",
     "text": [
      "Valor p de Beta 0 : 3.496523034651408e-95\n",
      "Valor p de Beta 1 : 0.0007615810625966622\n",
      "Valor p de Beta 2 : 1.257295265983115e-12\n",
      "Valor p de Beta 3 : 6.524944038434186e-145\n",
      "Valor p de Beta 4 : 9.441144894464743e-169\n",
      "Valor p de Beta 5 : 2.9332286885882334e-102\n",
      "Valor p de Beta 6 : 0.0\n",
      "Valor p de Beta 7 : 0.0\n",
      "Valor p de Beta 8 : 1.42306115668164e-41\n",
      "Valor p de Beta 9 : 6.146929714154527e-51\n"
     ]
    }
   ],
   "source": [
    "# Calculo de valores p\n",
    "for i in range(0, X.shape[1]):\n",
    "    print('Valor p de Beta', i, ':', scipy.stats.t.sf(abs(result_t[i]), df = grados_libertad) *2)"
   ]
  },
  {
   "cell_type": "markdown",
   "id": "cf0c943e",
   "metadata": {},
   "source": [
    "# Criterio 3"
   ]
  },
  {
   "cell_type": "code",
   "execution_count": 46,
   "id": "85b7c520",
   "metadata": {},
   "outputs": [
    {
     "name": "stdout",
     "output_type": "stream",
     "text": [
      "Beta 0 se encuentra entre -50246.63556623386 y -41593.3441073031\n",
      "Beta 1 se encuentra entre 5060.691169546324 y 19162.66708940327\n",
      "Beta 2 se encuentra entre 20934.807514932705 y 36891.70121722156\n",
      "Beta 3 se encuentra entre 493977.21867036505 y 575104.3934141918\n",
      "Beta 4 se encuentra entre 64231.24805216617 y 73924.3313995302\n",
      "Beta 5 se encuentra entre 50667.10495649588 y 60787.57999209191\n",
      "Beta 6 se encuentra entre 271.2199649197552 y 283.4407383331193\n",
      "Beta 7 se encuentra entre 258.3672756387775 y 277.4178318190918\n",
      "Beta 8 se encuentra entre -95.2975861514185 y -71.18898931078934\n",
      "Beta 9 se encuentra entre 53.76643053653545 y 69.8668334528707\n"
     ]
    }
   ],
   "source": [
    "# calculo de intervalos de confianza del 95% para el verdadero valor del coeficiente de cada beta\n",
    "for i in range(0, X.shape[1]):\n",
    "    print('Beta', i, 'se encuentra entre', float(betas[i]) - t_critico * s * math.sqrt(XT_X_inv[i][i]),\n",
    "         'y', float(betas[i]) + t_critico * s * math.sqrt(XT_X_inv[i][i])) "
   ]
  },
  {
   "cell_type": "code",
   "execution_count": 50,
   "id": "71aab6d3",
   "metadata": {},
   "outputs": [
    {
     "name": "stdout",
     "output_type": "stream",
     "text": [
      "                                 OLS Regression Results                                \n",
      "=======================================================================================\n",
      "Dep. Variable:                      y   R-squared (uncentered):                   0.865\n",
      "Model:                            OLS   Adj. R-squared (uncentered):              0.865\n",
      "Method:                 Least Squares   F-statistic:                          1.381e+04\n",
      "Date:                Fri, 18 Oct 2024   Prob (F-statistic):                        0.00\n",
      "Time:                        14:44:27   Log-Likelihood:                     -2.9844e+05\n",
      "No. Observations:               21613   AIC:                                  5.969e+05\n",
      "Df Residuals:                   21603   BIC:                                  5.970e+05\n",
      "Df Model:                          10                                                  \n",
      "Covariance Type:            nonrobust                                                  \n",
      "==============================================================================\n",
      "                 coef    std err          t      P>|t|      [0.025      0.975]\n",
      "------------------------------------------------------------------------------\n",
      "x1         -4.592e+04   2207.389    -20.803      0.000   -5.02e+04   -4.16e+04\n",
      "x2          1.211e+04   3597.307      3.367      0.001    5060.691    1.92e+04\n",
      "x3          2.891e+04   4070.483      7.103      0.000    2.09e+04    3.69e+04\n",
      "x4          5.345e+05   2.07e+04     25.830      0.000    4.94e+05    5.75e+05\n",
      "x5          6.908e+04   2472.632     27.937      0.000    6.42e+04    7.39e+04\n",
      "x6          5.573e+04   2581.657     21.586      0.000    5.07e+04    6.08e+04\n",
      "x7           277.3304      3.117     88.961      0.000     271.220     283.441\n",
      "x8           267.8926      4.860     55.126      0.000     258.367     277.418\n",
      "x9           -83.2433      6.150    -13.536      0.000     -95.298     -71.189\n",
      "x10           61.8166      4.107     15.051      0.000      53.766      69.867\n",
      "==============================================================================\n",
      "Omnibus:                    13286.278   Durbin-Watson:                   1.985\n",
      "Prob(Omnibus):                  0.000   Jarque-Bera (JB):           472975.260\n",
      "Skew:                           2.400   Prob(JB):                         0.00\n",
      "Kurtosis:                      25.409   Cond. No.                     3.47e+04\n",
      "==============================================================================\n",
      "\n",
      "Notes:\n",
      "[1] R² is computed without centering (uncentered) since the model does not contain a constant.\n",
      "[2] Standard Errors assume that the covariance matrix of the errors is correctly specified.\n",
      "[3] The condition number is large, 3.47e+04. This might indicate that there are\n",
      "strong multicollinearity or other numerical problems.\n"
     ]
    }
   ],
   "source": [
    "import statsmodels.api as sm\n",
    "regressor = sm.OLS(Y, X).fit()\n",
    "print(regressor.summary())"
   ]
  },
  {
   "cell_type": "markdown",
   "id": "15d57510",
   "metadata": {},
   "source": [
    "# Proceso StepWise"
   ]
  },
  {
   "cell_type": "code",
   "execution_count": 51,
   "id": "06507fe5",
   "metadata": {},
   "outputs": [
    {
     "name": "stdout",
     "output_type": "stream",
     "text": [
      "[[-4.47062584e+04]\n",
      " [ 3.39855530e+04]\n",
      " [ 5.34234240e+05]\n",
      " [ 6.90005381e+04]\n",
      " [ 5.50629975e+04]\n",
      " [ 2.82707904e+02]\n",
      " [ 2.75326828e+02]\n",
      " [-8.09865946e+01]\n",
      " [ 6.20376229e+01]]\n"
     ]
    }
   ],
   "source": [
    "# Eliminamos variables no significativas \n",
    "X_new = np.delete(X, 1, axis = 1)\n",
    "\n",
    "# Repetimos la regresión con las variables seleccionadas\n",
    "XT_X_new = np.matmul(np.transpose(X_new), X_new)\n",
    "XT_X_new_inv = np.linalg.inv(XT_X_new)\n",
    "XT_Y_new = np.matmul(np.transpose(X_new), Y)\n",
    "betas_new = np.matmul(XT_X_new_inv, XT_Y_new)\n",
    "\n",
    "print(betas_new)"
   ]
  },
  {
   "cell_type": "code",
   "execution_count": 54,
   "id": "49e0794e",
   "metadata": {},
   "outputs": [
    {
     "data": {
      "text/plain": [
       "(0.571647881161359, 0.5714892616024482)"
      ]
     },
     "execution_count": 54,
     "metadata": {},
     "output_type": "execute_result"
    }
   ],
   "source": [
    "# Calcular nuevamente el R^2 y el R^2 ajustado con las variables seleccionadas\n",
    "Y_pred_new = np.matmul(X_new, betas_new)\n",
    "resid_new = Y - Y_pred_new\n",
    "RSS_new = float(np.matmul(np.transpose(resid_new), resid_new))\n",
    "R_2_new = float(1 - RSS_new / TSS)\n",
    "RSqAj_new = float(1 - (RSS_new / (X_new.shape[0] - X_new.shape[1])) / (TSS / (X_new.shape[0] - 1)))\n",
    "R_2_new, RSqAj_new"
   ]
  },
  {
   "cell_type": "code",
   "execution_count": 35,
   "id": "5359fa7d",
   "metadata": {},
   "outputs": [
    {
     "name": "stdout",
     "output_type": "stream",
     "text": [
      "                                 OLS Regression Results                                \n",
      "=======================================================================================\n",
      "Dep. Variable:                      y   R-squared (uncentered):                   0.864\n",
      "Model:                            OLS   Adj. R-squared (uncentered):              0.864\n",
      "Method:                 Least Squares   F-statistic:                          1.530e+04\n",
      "Date:                Fri, 18 Oct 2024   Prob (F-statistic):                        0.00\n",
      "Time:                        13:24:58   Log-Likelihood:                     -2.9846e+05\n",
      "No. Observations:               21613   AIC:                                  5.969e+05\n",
      "Df Residuals:                   21604   BIC:                                  5.970e+05\n",
      "Df Model:                           9                                                  \n",
      "Covariance Type:            nonrobust                                                  \n",
      "==============================================================================\n",
      "                 coef    std err          t      P>|t|      [0.025      0.975]\n",
      "------------------------------------------------------------------------------\n",
      "x1         -4.685e+04   2206.009    -21.238      0.000   -5.12e+04   -4.25e+04\n",
      "x2          2.157e+04   3345.676      6.447      0.000     1.5e+04    2.81e+04\n",
      "x3          5.354e+05   2.07e+04     25.842      0.000    4.95e+05    5.76e+05\n",
      "x4          6.935e+04   2475.168     28.017      0.000    6.45e+04    7.42e+04\n",
      "x5          5.303e+04   2556.395     20.742      0.000     4.8e+04     5.8e+04\n",
      "x6           280.6735      3.085     90.974      0.000     274.626     286.721\n",
      "x7           256.1408      4.575     55.992      0.000     247.174     265.107\n",
      "x8           -66.5270      5.688    -11.695      0.000     -77.677     -55.377\n",
      "x9            61.8766      4.112     15.049      0.000      53.817      69.936\n",
      "==============================================================================\n",
      "Omnibus:                    13111.115   Durbin-Watson:                   1.985\n",
      "Prob(Omnibus):                  0.000   Jarque-Bera (JB):           450507.401\n",
      "Skew:                           2.364   Prob(JB):                         0.00\n",
      "Kurtosis:                      24.861   Cond. No.                     3.47e+04\n",
      "==============================================================================\n",
      "\n",
      "Notes:\n",
      "[1] R² is computed without centering (uncentered) since the model does not contain a constant.\n",
      "[2] Standard Errors assume that the covariance matrix of the errors is correctly specified.\n",
      "[3] The condition number is large, 3.47e+04. This might indicate that there are\n",
      "strong multicollinearity or other numerical problems.\n"
     ]
    }
   ],
   "source": [
    "import statsmodels.api as sm\n",
    "regressor = sm.OLS(Y, X_new).fit()\n",
    "print(regressor.summary())"
   ]
  },
  {
   "cell_type": "code",
   "execution_count": null,
   "id": "04090b4c",
   "metadata": {},
   "outputs": [],
   "source": []
  }
 ],
 "metadata": {
  "kernelspec": {
   "display_name": "Python 3 (ipykernel)",
   "language": "python",
   "name": "python3"
  },
  "language_info": {
   "codemirror_mode": {
    "name": "ipython",
    "version": 3
   },
   "file_extension": ".py",
   "mimetype": "text/x-python",
   "name": "python",
   "nbconvert_exporter": "python",
   "pygments_lexer": "ipython3",
   "version": "3.11.5"
  }
 },
 "nbformat": 4,
 "nbformat_minor": 5
}
